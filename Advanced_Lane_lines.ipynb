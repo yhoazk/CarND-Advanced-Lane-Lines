{
 "cells": [
  {
   "cell_type": "markdown",
   "metadata": {
    "collapsed": true
   },
   "source": [
    "# Advanced Lane Lines Project"
   ]
  },
  {
   "cell_type": "markdown",
   "metadata": {},
   "source": [
    "This is an improvement for project #1 where we just maked the lane lines, but without caring for the radius or the relative position of the car."
   ]
  },
  {
   "cell_type": "markdown",
   "metadata": {},
   "source": [
    "The goals / steps of this project are the following:\n",
    "\n",
    "- Compute the camera calibration matrix and distortion coefficients given a set of chessboard images.\n",
    "- Apply a distortion correction to raw images.\n",
    "- Use color transforms, gradients, etc., to create a thresholded binary image.\n",
    "- Apply a perspective transform to rectify binary image (\"birds-eye view\").\n",
    "- Detect lane pixels and fit to find the lane boundary.\n",
    "- Determine the curvature of the lane and vehicle position with respect to center.\n",
    "- Warp the detected lane boundaries back onto the original image.\n",
    "- Output visual display of the lane boundaries and numerical estimation of lane curvature and vehicle\n",
    "position."
   ]
  },
  {
   "cell_type": "markdown",
   "metadata": {},
   "source": [
    "### Camera Calibration\n",
    "1. Have the camera matrix and distortion coefficients been computed correctly and\n",
    "checked on one of the calibration images as a test?"
   ]
  },
  {
   "cell_type": "code",
   "execution_count": 1,
   "metadata": {
    "collapsed": true
   },
   "outputs": [],
   "source": [
    "## Get all the needed imports\n",
    "import pickle\n",
    "import matplotlib.pyplot as plt\n",
    "import cv2\n",
    "from glob import glob\n",
    "import matplotlib.image as mpimage\n",
    "import numpy as np\n",
    "# all the pyploy images print them in this page\n",
    "%matplotlib inline\n",
    "\n",
    "## Generic fuction to show an array of images\n",
    "def plot_imgArr(img_arr, label=None, predict=None, gray=False, n=2):\n",
    "    \"\"\"\n",
    "    :img_arr: An iterable list of images\n",
    "    :label: The title of the image\n",
    "    :gray: True if the image is to be shown in black and white\n",
    "    :n: The number of 2 image rows.\n",
    "    \"\"\"\n",
    "    f, arr = plt.subplots(n,2)\n",
    "    print(img_arr[0].shape)\n",
    "    for n, subplt in enumerate(arr.reshape(-1)):\n",
    "        if gray:\n",
    "            subplt.imshow(img_arr[n],  cmap='gray')\n",
    "        else:\n",
    "            subplt.imshow(img_arr[n])\n",
    "        subplt.axis('off')\n",
    "        if label is not None and predict is None:\n",
    "            subplt.set_title(\"st: \"+str(label[n]))\n",
    "        elif label is not None and predict is not None:\n",
    "            subplt.set_title(\"st:\"+str(label[n]) + \"p:\"+str(predict[n]))\n",
    "    plt.show()\n"
   ]
  },
  {
   "cell_type": "markdown",
   "metadata": {},
   "source": [
    "Verify current location:"
   ]
  },
  {
   "cell_type": "code",
   "execution_count": 2,
   "metadata": {
    "collapsed": false
   },
   "outputs": [
    {
     "data": {
      "text/plain": [
       "'/home/porko/workspace/nd_selfDrive/CarND-Advanced-Lane-Lines'"
      ]
     },
     "execution_count": 2,
     "metadata": {},
     "output_type": "execute_result"
    }
   ],
   "source": [
    "%pwd"
   ]
  },
  {
   "cell_type": "markdown",
   "metadata": {},
   "source": [
    "Get the points to calibrate the camera:"
   ]
  },
  {
   "cell_type": "code",
   "execution_count": 5,
   "metadata": {
    "collapsed": false,
    "scrolled": true
   },
   "outputs": [
    {
     "ename": "IndexError",
     "evalue": "list index out of range",
     "output_type": "error",
     "traceback": [
      "\u001b[0;31m---------------------------------------------------------------------------\u001b[0m",
      "\u001b[0;31mIndexError\u001b[0m                                Traceback (most recent call last)",
      "\u001b[0;32m<ipython-input-5-6d5e698432a0>\u001b[0m in \u001b[0;36m<module>\u001b[0;34m()\u001b[0m\n\u001b[1;32m     54\u001b[0m \u001b[0max1\u001b[0m\u001b[0;34m.\u001b[0m\u001b[0mset_title\u001b[0m\u001b[0;34m(\u001b[0m\u001b[0;34m\"Original image\"\u001b[0m\u001b[0;34m)\u001b[0m\u001b[0;34m\u001b[0m\u001b[0m\n\u001b[1;32m     55\u001b[0m \u001b[0max1\u001b[0m\u001b[0;34m.\u001b[0m\u001b[0maxis\u001b[0m\u001b[0;34m(\u001b[0m\u001b[0;34m'off'\u001b[0m\u001b[0;34m)\u001b[0m\u001b[0;34m\u001b[0m\u001b[0m\n\u001b[0;32m---> 56\u001b[0;31m \u001b[0max1\u001b[0m\u001b[0;34m.\u001b[0m\u001b[0mimshow\u001b[0m\u001b[0;34m(\u001b[0m\u001b[0mimg_list\u001b[0m\u001b[0;34m[\u001b[0m\u001b[0;36m19\u001b[0m\u001b[0;34m]\u001b[0m\u001b[0;34m)\u001b[0m\u001b[0;34m\u001b[0m\u001b[0m\n\u001b[0m\u001b[1;32m     57\u001b[0m \u001b[0;34m\u001b[0m\u001b[0m\n\u001b[1;32m     58\u001b[0m \u001b[0max2\u001b[0m\u001b[0;34m.\u001b[0m\u001b[0mset_title\u001b[0m\u001b[0;34m(\u001b[0m\u001b[0;34m\"Undistored image\"\u001b[0m\u001b[0;34m)\u001b[0m\u001b[0;34m\u001b[0m\u001b[0m\n",
      "\u001b[0;31mIndexError\u001b[0m: list index out of range"
     ]
    },
    {
     "data": {
      "image/png": "[encoded data removed]",
      "text/plain": [
       "<matplotlib.figure.Figure at 0x7f10c103a550>"
      ]
     },
     "metadata": {},
     "output_type": "display_data"
    }
   ],
   "source": [
    "# get all the images from the camera_cal folder\n",
    "# from: http://opencv-python-tutroals.readthedocs.io/en/latest/py_tutorials/py_calib3d/py_calibration/py_calibration.html\n",
    "\"\"\"\n",
    "Parameters and constats\n",
    "\"\"\"\n",
    "# Number of corners in x\n",
    "nx = 9\n",
    "# Number of corners in y\n",
    "ny = 6\n",
    "# Pickle file path \n",
    "CAMERA_UNDISTORT_FILE = \"/home/porko/workspace/nd_selfDrive/CarND-Advanced-Lane-Lines/output_images/calibration/\"\n",
    "# Pickle file name\n",
    "CAMERA_PICKLE_NAME = \"camera_undist.p\"\n",
    "# prepare object points, like (0,0,0), (1,0,0), (2,0,0) ....,(6,5,0)\n",
    "objp = np.zeros((nx*ny,3), np.float32)\n",
    "objp[:,:2] = np.mgrid[0:nx,0:ny].T.reshape(-1,2)\n",
    "objpoints = [] # 3d point in real world space\n",
    "imgpoints = [] # 2d points in image plane.\n",
    "imgs = glob(\"camera_cal/calibration*\")\n",
    "\n",
    "img_list = []\n",
    "for path_img in imgs:\n",
    "    img = cv2.imread(path_img)\n",
    "    g_img = cv2.cvtColor(img, cv2.COLOR_BGR2GRAY)\n",
    "    \n",
    "    ret, corners = cv2.findChessboardCorners(g_img, (nx,ny))\n",
    "    \n",
    "    if ret == True:\n",
    "        objpoints.append(objp)\n",
    "        imgpoints.append(corners)\n",
    "        img = cv2.drawChessboardCorners(img, (nx,ny), corners, True)\n",
    "        img_list.append(img.copy())\n",
    "\n",
    "\n",
    "# This function returns the camera matrix (mtx), distortion coefficients and rotation and translation vectors\n",
    "h,w = img_list[0].shape[:2]\n",
    "\n",
    "ret, mtx, dist, rvecs, tvecs = cv2.calibrateCamera(objpoints, imgpoints, (h,w),None,None)\n",
    "# refine the matrix with the open cv function\n",
    "## Why not user getOptimalNewCameraMatrix?\n",
    "#newcameramtx, roi=cv2.getOptimalNewCameraMatrix(mtx,dist,(w,h),1,(w,h))\n",
    "#x,y,w,h = roi\n",
    "img_list_und = []\n",
    "\n",
    "for n, path_img in enumerate(imgs):\n",
    "    img = cv2.imread(path_img)\n",
    "    # in case we want to use getOptimalNewCameraMatrix change the second mtx for newcameramtx\n",
    "    dst = cv2.undistort(img, mtx, dist, None, mtx) \n",
    "    # \n",
    "    img_list_und.append(dst)\n",
    "    cv2.imwrite('./output_images/calibration/calibresult_'+str(n)+'.jpg',dst)\n",
    "    \n",
    "f,(ax1,ax2) = plt.subplots(1,2, figsize=(20,10))\n",
    "ax1.set_title(\"Original image\")\n",
    "ax1.axis('off')\n",
    "ax1.imshow(img_list[9])\n",
    "\n",
    "ax2.set_title(\"Undistored image\")\n",
    "ax2.axis('off')\n",
    "ax2.imshow(img_list_und[9])\n"
   ]
  },
  {
   "cell_type": "markdown",
   "metadata": {},
   "source": [
    "Once we are satisfied with the coefficients, save them into a pickle file."
   ]
  },
  {
   "cell_type": "code",
   "execution_count": 4,
   "metadata": {
    "collapsed": true
   },
   "outputs": [],
   "source": [
    "camera_undist = {\"mtx\": mtx, \"dist\":dist}\n",
    "pickle.dump(camera_undist, open(CAMERA_UNDISTORT_FILE+CAMERA_PICKLE_NAME, \"wb\"))"
   ]
  },
  {
   "cell_type": "markdown",
   "metadata": {},
   "source": [
    "### Pipeline (single images)"
   ]
  },
  {
   "cell_type": "markdown",
   "metadata": {},
   "source": [
    "#### Distortion correction.\n",
    "Has the distortion correction been correctly applied to each image?"
   ]
  },
  {
   "cell_type": "markdown",
   "metadata": {},
   "source": [
    "#### Color transformation and gradients\n",
    "Has a binary image been created using color transforms, gradients or other methods?"
   ]
  },
  {
   "cell_type": "markdown",
   "metadata": {},
   "source": [
    "Has a perspective transform been applied to rectify the image?"
   ]
  },
  {
   "cell_type": "markdown",
   "metadata": {},
   "source": [
    "Have lane line pixels been identified in the rectified image and fit with a polynomial?"
   ]
  },
  {
   "cell_type": "markdown",
   "metadata": {},
   "source": [
    "Having identified the lane lines, has the radius of curvature of the road been estimated?\n",
    "And the position of the vehicle with respect to center in the lane?"
   ]
  },
  {
   "cell_type": "markdown",
   "metadata": {},
   "source": [
    "### Pipeline (video)"
   ]
  },
  {
   "cell_type": "markdown",
   "metadata": {},
   "source": [
    "## Discussion"
   ]
  }
 ],
 "metadata": {
  "anaconda-cloud": {},
  "kernelspec": {
   "display_name": "Python [default]",
   "language": "python",
   "name": "python3"
  },
  "language_info": {
   "codemirror_mode": {
    "name": "ipython",
    "version": 3
   },
   "file_extension": ".py",
   "mimetype": "text/x-python",
   "name": "python",
   "nbconvert_exporter": "python",
   "pygments_lexer": "ipython3",
   "version": "3.5.2"
  }
 },
 "nbformat": 4,
 "nbformat_minor": 0
}
